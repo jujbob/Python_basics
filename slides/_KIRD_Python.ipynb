{
  "nbformat": 4,
  "nbformat_minor": 0,
  "metadata": {
    "colab": {
      "name": "\bKIRD-Python.ipynb",
      "provenance": [],
      "collapsed_sections": []
    },
    "kernelspec": {
      "name": "python3",
      "display_name": "Python 3"
    },
    "language_info": {
      "name": "python"
    }
  },
  "cells": [
    {
      "cell_type": "code",
      "execution_count": null,
      "metadata": {
        "colab": {
          "base_uri": "https://localhost:8080/"
        },
        "id": "A0NwdZLvOO0h",
        "outputId": "02481243-65be-4752-ea8e-2255d888c172"
      },
      "outputs": [
        {
          "output_type": "stream",
          "name": "stdout",
          "text": [
            " 국어 점수 입력 : 80\n",
            " 수학 점수 입력 : 90\n",
            " 영어 점수 입력 : 40\n",
            " 과학 점수 입력 : 50\n",
            "\n",
            "\n",
            " minjun 국어 점수 : 80 \n",
            " minjun 수학 점수 : 90 \n",
            " minjun 영어 점수 : 40 \n",
            " minjun 과학 점수 : 50 \n",
            " --------------------\n",
            " minjun 평균 점수 : 65.0\n"
          ]
        }
      ],
      "source": [
        "minjun_kor = int(input(\" 국어 점수 입력 : \"))\n",
        "minjun_math = int(input(\" 수학 점수 입력 : \"))\n",
        "minjun_eng = int(input(\" 영어 점수 입력 : \"))\n",
        "minjun_sci = int(input(\" 과학 점수 입력 : \"))\n",
        "\n",
        "minjun_avg = (minjun_kor + minjun_math + minjun_eng + minjun_sci)/4\n",
        "print('\\n')\n",
        "print(f' minjun 국어 점수 : {minjun_kor} \\n minjun 수학 점수 : {minjun_math} \\n minjun 영어 점수 : {minjun_eng} \\n minjun 과학 점수 : {minjun_sci} \\n --------------------\\n minjun 평균 점수 : {minjun_avg}')"
      ]
    },
    {
      "cell_type": "code",
      "source": [
        "for i in range(1,12*2,2):\n",
        "    print((\" \"*((12*2-1-i)//2))+(\"*\"*i))\n",
        "\n",
        "for i in range(3):\n",
        "    print(\"\\t   ||\")\n"
      ],
      "metadata": {
        "colab": {
          "base_uri": "https://localhost:8080/"
        },
        "id": "AEH5jELDPldU",
        "outputId": "a9682829-e824-4e11-b967-2cc75568038f"
      },
      "execution_count": null,
      "outputs": [
        {
          "output_type": "stream",
          "name": "stdout",
          "text": [
            "           *\n",
            "          ***\n",
            "         *****\n",
            "        *******\n",
            "       *********\n",
            "      ***********\n",
            "     *************\n",
            "    ***************\n",
            "   *****************\n",
            "  *******************\n",
            " *********************\n",
            "***********************\n",
            "\t   ||\n",
            "\t   ||\n",
            "\t   ||\n"
          ]
        }
      ]
    },
    {
      "cell_type": "code",
      "source": [
        "print('Hello' * 2)"
      ],
      "metadata": {
        "colab": {
          "base_uri": "https://localhost:8080/"
        },
        "id": "D1Lyo_kda_PB",
        "outputId": "9493e0f2-4697-42b4-9164-72a322848543"
      },
      "execution_count": null,
      "outputs": [
        {
          "output_type": "stream",
          "name": "stdout",
          "text": [
            "HelloHello\n"
          ]
        }
      ]
    },
    {
      "cell_type": "code",
      "source": [
        "class Student:\n",
        "    name = \"\"\n",
        "    kor = 0\n",
        "    math = 0\n",
        "    eng = 0\n",
        "    sci = 0\n",
        "    avg = 0\n",
        "\n",
        "student = Student()\n",
        "student.name = input(\"이름 입력 : \")\n",
        "student.kor = int(input(\"국어 점수 입력 : \"))\n",
        "student.math = int(input(\"수학 점수 입력 : \"))\n",
        "student.eng = int(input(\"영어 점수 입력 : \"))\n",
        "student.sci = int(input(\"과학 점수 입력 : \"))\n",
        "\n",
        "def print_avg(a, b, c, d):\n",
        "    return (a+b+c+d)/4\n",
        "\n",
        "student.avg = print_avg(student.kor, student.math, student.eng, student.sci)\n",
        "\n",
        "\n",
        "print(f'\\n\\n학생 이름 : {student.name} \\n국어 점수 : {student.kor} \\n수학 점수 : {student.math} \\n영어 점수 : {student.eng} \\n과학 점수 : {student.sci} \\n평균 점수 : {student.avg}')"
      ],
      "metadata": {
        "colab": {
          "base_uri": "https://localhost:8080/"
        },
        "id": "xyatq6kUcTIC",
        "outputId": "9738ea75-0877-4323-b8d1-784830a09dca"
      },
      "execution_count": null,
      "outputs": [
        {
          "output_type": "stream",
          "name": "stdout",
          "text": [
            "이름 입력 : 김민준\n",
            "국어 점수 입력 : 90\n",
            "수학 점수 입력 : 80\n",
            "영어 점수 입력 : 70\n",
            "과학 점수 입력 : 60\n",
            "\n",
            "\n",
            "학생 이름 : 김민준 \n",
            "국어 점수 : 90 \n",
            "수학 점수 : 80 \n",
            "영어 점수 : 70 \n",
            "과학 점수 : 60 \n",
            "평균 점수 : 75.0\n"
          ]
        }
      ]
    },
    {
      "cell_type": "code",
      "source": [
        "import numpy as np\n",
        "import matplotlib.pyplot as plt\n",
        "\n",
        "x = np.linspace(0.0, 2*np.pi)\n",
        "\n",
        "y1 = np.sin(x)\n",
        "y2 = np.cos(x)\n",
        "\n",
        "plt.subplot(2, 1, 1)                \n",
        "plt.plot(x, y1, 'r')\n",
        "plt.xlabel('x')\n",
        "plt.ylabel('y')\n",
        "\n",
        "plt.subplot(2, 1, 2)                \n",
        "plt.plot(x, y2, 'b')\n",
        "plt.xlabel('x')\n",
        "plt.ylabel('y')\n",
        "\n",
        "plt.tight_layout()\n",
        "plt.show()"
      ],
      "metadata": {
        "colab": {
          "base_uri": "https://localhost:8080/",
          "height": 297
        },
        "id": "vxhWLkHBiVdU",
        "outputId": "20b4c8d0-c3e4-48b8-f6c8-d4544d911714"
      },
      "execution_count": null,
      "outputs": [
        {
          "output_type": "display_data",
          "data": {
            "image/png": "[encoded data removed]",
            "text/plain": [
              "<Figure size 432x288 with 2 Axes>"
            ]
          },
          "metadata": {
            "needs_background": "light"
          }
        }
      ]
    },
    {
      "cell_type": "code",
      "source": [
        ""
      ],
      "metadata": {
        "id": "QNWnxwDHlgdR"
      },
      "execution_count": null,
      "outputs": []
    }
  ]
}