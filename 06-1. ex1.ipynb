{
  "nbformat": 4,
  "nbformat_minor": 0,
  "metadata": {
    "colab": {
      "name": "Midterm.ipynb",
      "provenance": [],
      "collapsed_sections": []
    },
    "kernelspec": {
      "name": "python3",
      "display_name": "Python 3"
    },
    "language_info": {
      "name": "python"
    }
  },
  "cells": [
    {
      "cell_type": "markdown",
      "metadata": {
        "id": "6MoHgHlnfmtG"
      },
      "source": [
        ""
      ]
    },
    {
      "cell_type": "markdown",
      "metadata": {
        "id": "GJDK81e7gSEC"
      },
      "source": [
        "## 1. 단답형 코딩: 아래 출력 결과를 보고 **&채워보세요&** 부분의 코드를 직접 작성해 보세요! (총 48점) 개당 4점"
      ]
    },
    {
      "cell_type": "code",
      "metadata": {
        "colab": {
          "base_uri": "https://localhost:8080/"
        },
        "id": "O9sFio-tfiUI",
        "outputId": "6e93d35d-5406-403b-9b99-9b311d6bc74d"
      },
      "source": [
        "a = 2\n",
        "print(a,type(a),end=\"\\n\\n\")\n",
        "\n",
        "b = 2.0\n",
        "print(b,&채워보세요&(b),end=\"\\n\\n\")"
      ],
      "execution_count": null,
      "outputs": [
        {
          "output_type": "stream",
          "name": "stdout",
          "text": [
            "2 <class 'int'>\n",
            "\n",
            "2.0 <class 'float'>\n",
            "\n"
          ]
        }
      ]
    },
    {
      "cell_type": "code",
      "metadata": {
        "colab": {
          "base_uri": "https://localhost:8080/"
        },
        "id": "tPZEt7T6pZNC",
        "outputId": "31d7176f-3e17-4967-d4a6-505f525d6163"
      },
      "source": [
        "a=1\n",
        "b=2\n",
        "c=3\n",
        "\n",
        "print(a+b)\n",
        "print(a-b)\n",
        "print(b*c)\n",
        "print(b/c)\n",
        "print(&채워보세요&)   ## 참고로 b-a아닙니다. 변수 b,c 한번씩 이용해서하면되요  (힌트 나누기를를 여러번?)\n",
        "print(&채워보세요&)   ## b*c+b 이런거 아니고 변수 b,c 한번씩 이용해서하면되요 (힌트 곱하기를 여러번??)"
      ],
      "execution_count": null,
      "outputs": [
        {
          "output_type": "stream",
          "name": "stdout",
          "text": [
            "3\n",
            "-1\n",
            "6\n",
            "0.6666666666666666\n",
            "1\n",
            "8\n"
          ]
        }
      ]
    },
    {
      "cell_type": "code",
      "metadata": {
        "colab": {
          "base_uri": "https://localhost:8080/"
        },
        "id": "7W4Nr3oPpnY7",
        "outputId": "baee76e1-82e5-422e-dfd7-8e36d561aeda"
      },
      "source": [
        "list_1 = [1,2,3]\n",
        "print(list_1)\n",
        "\n",
        "list_1.&채워보세요&(4)\n",
        "print(list_1)\n",
        "\n",
        "list_1.&채워보세요&(&채워보세요&)\n",
        "print(list_1)\n",
        "\n",
        "list_1.&채워보세요&()    #힌트 맨뒤에 값을 반환하고 해당 값을 삭제하는 내장함수! del아님\n",
        "print(list_1)"
      ],
      "execution_count": null,
      "outputs": [
        {
          "output_type": "stream",
          "name": "stdout",
          "text": [
            "[1, 2, 3]\n",
            "[1, 2, 3, 4]\n",
            "[1, 2, 3, 4, 'abc']\n",
            "[1, 2, 3, 4]\n"
          ]
        }
      ]
    },
    {
      "cell_type": "code",
      "metadata": {
        "colab": {
          "base_uri": "https://localhost:8080/"
        },
        "id": "j93vPpFnhmTO",
        "outputId": "5770a645-714e-40e2-b28b-411de5a6b246"
      },
      "source": [
        "a = [1,2,3,4,5,6,7,8,1,1,1,1,2,2]\n",
        "i = 0\n",
        "while i<len(a):\n",
        "    if &채워보세요&:\n",
        "        print(a[i])\n",
        "    i+=1"
      ],
      "execution_count": null,
      "outputs": [
        {
          "output_type": "stream",
          "name": "stdout",
          "text": [
            "6\n",
            "7\n",
            "8\n"
          ]
        }
      ]
    },
    {
      "cell_type": "code",
      "metadata": {
        "colab": {
          "base_uri": "https://localhost:8080/"
        },
        "id": "SPJieF3ZhnDC",
        "outputId": "058578b7-84e2-422f-d86b-66295cd5ba34"
      },
      "source": [
        "a = [1,2,3,5,1,3,6,3,7]\n",
        "i=0\n",
        "while i<len(a):\n",
        "    if(a[i]&채워보세요&): #힌트: 홀수 짝수...\n",
        "        print(a[i])\n",
        "    i+=1"
      ],
      "execution_count": null,
      "outputs": [
        {
          "output_type": "stream",
          "name": "stdout",
          "text": [
            "2\n",
            "6\n"
          ]
        }
      ]
    },
    {
      "cell_type": "code",
      "metadata": {
        "colab": {
          "base_uri": "https://localhost:8080/"
        },
        "id": "I4V9H98gi15R",
        "outputId": "0761c8c7-0a5c-4051-c854-2c59e1988d4f"
      },
      "source": [
        "for x in range(&채워보세요&):\n",
        "    print(x)"
      ],
      "execution_count": null,
      "outputs": [
        {
          "output_type": "stream",
          "name": "stdout",
          "text": [
            "1\n",
            "3\n",
            "5\n",
            "7\n",
            "9\n"
          ]
        }
      ]
    },
    {
      "cell_type": "code",
      "metadata": {
        "colab": {
          "base_uri": "https://localhost:8080/"
        },
        "id": "rBb9pUQRqRvi",
        "outputId": "5d632f5f-8937-4ac9-b07e-74add86c84ee"
      },
      "source": [
        "for i in range(&채워보세요&):\n",
        "    print(i)"
      ],
      "execution_count": null,
      "outputs": [
        {
          "output_type": "stream",
          "name": "stdout",
          "text": [
            "0\n",
            "-1\n",
            "-2\n",
            "-3\n",
            "-4\n"
          ]
        }
      ]
    },
    {
      "cell_type": "code",
      "metadata": {
        "colab": {
          "base_uri": "https://localhost:8080/"
        },
        "id": "1ot0-kyti5GE",
        "outputId": "0a1e8ed9-3b11-4def-90d3-c18752719999"
      },
      "source": [
        "a = 'Python 프로그래밍 개꿀잼'\n",
        "\n",
        "print(a[&채워보세요&]) # 처음부터 끝까지\n",
        "print(a[&채워보세요&]) # 처음부터 2번 인덱스까지\n",
        "print(a[&채워보세요&]) # 2번부터 끝까지\n",
        "print(a[&채워보세요&]) # "
      ],
      "execution_count": null,
      "outputs": [
        {
          "output_type": "stream",
          "name": "stdout",
          "text": [
            "Python 프로그래밍 개꿀잼\n",
            "Pyt\n",
            "thon 프로그래밍 개꿀잼\n",
            "on 프로그래밍\n"
          ]
        }
      ]
    },
    {
      "cell_type": "code",
      "metadata": {
        "colab": {
          "base_uri": "https://localhost:8080/"
        },
        "id": "XMQ-ZDz-mknL",
        "outputId": "39b85a37-f9ae-43d7-c3a8-b6ff690ecc71"
      },
      "source": [
        "numList = []\n",
        "for i in range(0, 4) :\n",
        "  numList.&채워보세요&(&채워보세요&)\n",
        "print(numList)"
      ],
      "execution_count": null,
      "outputs": [
        {
          "output_type": "stream",
          "name": "stdout",
          "text": [
            "[3, 4, 5, 6]\n"
          ]
        }
      ]
    },
    {
      "cell_type": "code",
      "metadata": {
        "colab": {
          "base_uri": "https://localhost:8080/"
        },
        "id": "5yw-pDA6nB5C",
        "outputId": "e4e58db1-cd0e-4af5-fd47-5c9f070ca0b7"
      },
      "source": [
        "numList = [10, 20, 30] \n",
        "numList.&채워보세요&(1, 123) \n",
        "print(numList)"
      ],
      "execution_count": null,
      "outputs": [
        {
          "output_type": "stream",
          "name": "stdout",
          "text": [
            "[10, 123, 20, 30]\n"
          ]
        }
      ]
    },
    {
      "cell_type": "code",
      "metadata": {
        "colab": {
          "base_uri": "https://localhost:8080/"
        },
        "id": "Wzix8U0UnMVg",
        "outputId": "d468c823-4a8e-4ffe-da03-41cd499e4563"
      },
      "source": [
        "numList = [10, 20, 30]\n",
        "&채워보세요&(numList[1])\n",
        "print(numList)"
      ],
      "execution_count": null,
      "outputs": [
        {
          "output_type": "stream",
          "name": "stdout",
          "text": [
            "[10, 30]\n"
          ]
        }
      ]
    },
    {
      "cell_type": "code",
      "metadata": {
        "colab": {
          "base_uri": "https://localhost:8080/"
        },
        "id": "LFuCN-ZSs9Ug",
        "outputId": "2d4574e6-a8bf-4059-9984-e4603c8a6ab3"
      },
      "source": [
        "a = []\n",
        "for i in range(20):\n",
        "    a.&채워보세요&(&채워보세요&)\n",
        "    \n",
        "print(a)"
      ],
      "execution_count": null,
      "outputs": [
        {
          "output_type": "stream",
          "name": "stdout",
          "text": [
            "[0, 2, 4, 6, 8, 10, 12, 14, 16, 18, 20, 22, 24, 26, 28, 30, 32, 34, 36, 38]\n"
          ]
        }
      ]
    },
    {
      "cell_type": "markdown",
      "metadata": {
        "id": "SSkZzjrqgtxW"
      },
      "source": [
        "## 2. 서술형 코딩: 다음 문제를 해결할 코드를 짜시오 (총 52점)"
      ]
    },
    {
      "cell_type": "markdown",
      "metadata": {
        "id": "Q_ke8Zv1g2NA"
      },
      "source": [
        "### 2-1. 사용자로부터 나이를 입력받아 myage 변수에 할당하고 myage가 30 미만일 경우 \"30세 미만입니다\", 30세 이상일 경우 \"30세 이상입니다\" 를 출력하는 코드를 짜시오 (8점)"
      ]
    },
    {
      "cell_type": "code",
      "metadata": {
        "id": "RKo62KN3gyKN",
        "colab": {
          "base_uri": "https://localhost:8080/"
        },
        "outputId": "e14aceb6-0f9f-4d9c-c6da-d2105380909a"
      },
      "source": [
        "myage = int(input(\"나이를 입력하세요: \"))                    # 나이를 입력받아 myage 변수에 할당\n",
        "##이곳부터 코드를 구현하면 됩니다."
      ],
      "execution_count": null,
      "outputs": [
        {
          "output_type": "stream",
          "name": "stdout",
          "text": [
            "나이를 입력하세요: 25\n",
            "30세 미만입니다.\n"
          ]
        }
      ]
    },
    {
      "cell_type": "markdown",
      "metadata": {
        "id": "SJULogSwkjK1"
      },
      "source": [
        "### 2-2. 아래 ss 문자열을 upper, lower 함수를 이용해서 대문자는 소문자로 소문자는 대문자로 변환하는 프로그램을 짜시오. (8점)\n"
      ]
    },
    {
      "cell_type": "code",
      "metadata": {
        "colab": {
          "base_uri": "https://localhost:8080/"
        },
        "id": "ZGar7sdykiwq",
        "outputId": "63d97af3-ca45-4269-d6fe-c19c2ac678a0"
      },
      "source": [
        "ss = \"Python\"\n",
        "ss2 = \"\"\n",
        "##이곳부터 코드를 구현하면 됩니다.\n",
        "print(\"변환 문자열 ==>\", end='') \n",
        "print(ss2)"
      ],
      "execution_count": null,
      "outputs": [
        {
          "output_type": "stream",
          "name": "stdout",
          "text": [
            "변환 문자열 ==>pYTHON\n"
          ]
        }
      ]
    },
    {
      "cell_type": "markdown",
      "metadata": {
        "id": "XiiRvNJSnf02"
      },
      "source": [
        "### 2-3. 아래 seq_list 변수의 내용을 반복문을 활용해 다음과같이 출력하는 코드를 작성하시오. (8점) "
      ]
    },
    {
      "cell_type": "code",
      "metadata": {
        "colab": {
          "base_uri": "https://localhost:8080/"
        },
        "id": "Bjq7T2Pgnd7a",
        "outputId": "88627554-e5dd-452c-c9f5-686b75177d05"
      },
      "source": [
        "seq_list = [[1, 2, 3, 4],\n",
        "            [5, 6, 7, 8],\n",
        "            [9, 10, 11, 12]]\n",
        "##이곳부터 코드를 구현하면 됩니다."
      ],
      "execution_count": null,
      "outputs": [
        {
          "output_type": "stream",
          "name": "stdout",
          "text": [
            "  1\n",
            "  2\n",
            "  3\n",
            "  4\n",
            "  5\n",
            "  6\n",
            "  7\n",
            "  8\n",
            "  9\n",
            "  10\n",
            "  11\n",
            "  12\n"
          ]
        }
      ]
    },
    {
      "cell_type": "markdown",
      "metadata": {
        "id": "T6rD23RKhQAn"
      },
      "source": [
        "### 2-4. 반복문(while)을 활용해서 1 부터 10까지의 제곱의 합구하고 출력하기 (8점)"
      ]
    },
    {
      "cell_type": "code",
      "metadata": {
        "colab": {
          "base_uri": "https://localhost:8080/"
        },
        "id": "0xhZmhMxhPs7",
        "outputId": "2a6e2774-4bcd-4f68-a54c-8517baf89b08"
      },
      "source": [
        "i = 1\n",
        "num=0\n",
        "##이곳부터 코드를 구현하면 됩니다.\n",
        "print(\"1~10까지 제곱의 합: \", num)\n",
        "print(\"1~10까지 제곱의 합: \", num)"
      ],
      "execution_count": null,
      "outputs": [
        {
          "output_type": "stream",
          "name": "stdout",
          "text": [
            "1~10까지 제곱의 합:  385\n",
            "1~10까지 제곱의 합:  385\n"
          ]
        }
      ]
    },
    {
      "cell_type": "markdown",
      "metadata": {
        "id": "YcyjOq_LiZhm"
      },
      "source": [
        "### 2-5. 주어진 변수 a와 반복문(for or while)을 활용해서 아래와 같이 출력하시오 (8점)"
      ]
    },
    {
      "cell_type": "code",
      "metadata": {
        "colab": {
          "base_uri": "https://localhost:8080/"
        },
        "id": "TUyVONzoiDE5",
        "outputId": "ebb96bb0-394f-41d1-fb75-ff97a4097932"
      },
      "source": [
        "a ='파이썬 프로그래밍 개꿀잼'\n",
        "##이곳부터 코드를 구현하면 됩니다."
      ],
      "execution_count": null,
      "outputs": [
        {
          "output_type": "stream",
          "name": "stdout",
          "text": [
            "파\n",
            "이\n",
            "썬\n",
            " \n",
            "프\n",
            "로\n",
            "그\n",
            "래\n",
            "밍\n",
            " \n",
            "개\n",
            "꿀\n",
            "잼\n"
          ]
        }
      ]
    },
    {
      "cell_type": "markdown",
      "metadata": {
        "id": "kKke6LqujMJ1"
      },
      "source": [
        "### 2-6. 주어진 변수 a와 반복문(for)을 활용해서 아래와 같이 구구단을 출력하시오 (12점)"
      ]
    },
    {
      "cell_type": "code",
      "metadata": {
        "colab": {
          "base_uri": "https://localhost:8080/"
        },
        "id": "WFIetLZ2iaT0",
        "outputId": "6787ad55-3a7c-426e-e71f-c1740cedb3a0"
      },
      "source": [
        "a = [1, 2, 3, 4, 5, 6, 7, 8, 9]\n",
        "##이곳부터 코드를 구현하면 됩니다."
      ],
      "execution_count": null,
      "outputs": [
        {
          "output_type": "stream",
          "name": "stdout",
          "text": [
            "1 * 1 = 1\n",
            "1 * 2 = 2\n",
            "1 * 3 = 3\n",
            "1 * 4 = 4\n",
            "1 * 5 = 5\n",
            "1 * 6 = 6\n",
            "1 * 7 = 7\n",
            "1 * 8 = 8\n",
            "1 * 9 = 9\n",
            "2 * 1 = 2\n",
            "2 * 2 = 4\n",
            "2 * 3 = 6\n",
            "2 * 4 = 8\n",
            "2 * 5 = 10\n",
            "2 * 6 = 12\n",
            "2 * 7 = 14\n",
            "2 * 8 = 16\n",
            "2 * 9 = 18\n",
            "3 * 1 = 3\n",
            "3 * 2 = 6\n",
            "3 * 3 = 9\n",
            "3 * 4 = 12\n",
            "3 * 5 = 15\n",
            "3 * 6 = 18\n",
            "3 * 7 = 21\n",
            "3 * 8 = 24\n",
            "3 * 9 = 27\n",
            "4 * 1 = 4\n",
            "4 * 2 = 8\n",
            "4 * 3 = 12\n",
            "4 * 4 = 16\n",
            "4 * 5 = 20\n",
            "4 * 6 = 24\n",
            "4 * 7 = 28\n",
            "4 * 8 = 32\n",
            "4 * 9 = 36\n",
            "5 * 1 = 5\n",
            "5 * 2 = 10\n",
            "5 * 3 = 15\n",
            "5 * 4 = 20\n",
            "5 * 5 = 25\n",
            "5 * 6 = 30\n",
            "5 * 7 = 35\n",
            "5 * 8 = 40\n",
            "5 * 9 = 45\n",
            "6 * 1 = 6\n",
            "6 * 2 = 12\n",
            "6 * 3 = 18\n",
            "6 * 4 = 24\n",
            "6 * 5 = 30\n",
            "6 * 6 = 36\n",
            "6 * 7 = 42\n",
            "6 * 8 = 48\n",
            "6 * 9 = 54\n",
            "7 * 1 = 7\n",
            "7 * 2 = 14\n",
            "7 * 3 = 21\n",
            "7 * 4 = 28\n",
            "7 * 5 = 35\n",
            "7 * 6 = 42\n",
            "7 * 7 = 49\n",
            "7 * 8 = 56\n",
            "7 * 9 = 63\n",
            "8 * 1 = 8\n",
            "8 * 2 = 16\n",
            "8 * 3 = 24\n",
            "8 * 4 = 32\n",
            "8 * 5 = 40\n",
            "8 * 6 = 48\n",
            "8 * 7 = 56\n",
            "8 * 8 = 64\n",
            "8 * 9 = 72\n",
            "9 * 1 = 9\n",
            "9 * 2 = 18\n",
            "9 * 3 = 27\n",
            "9 * 4 = 36\n",
            "9 * 5 = 45\n",
            "9 * 6 = 54\n",
            "9 * 7 = 63\n",
            "9 * 8 = 72\n",
            "9 * 9 = 81\n"
          ]
        }
      ]
    },
    {
      "cell_type": "markdown",
      "metadata": {
        "id": "IwItVvDNxPsp"
      },
      "source": [
        "### 수고 많으셨습니다. ipynb 파일을 제출해주세요!"
      ]
    }
  ]
}